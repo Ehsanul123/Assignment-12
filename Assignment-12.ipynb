{
 "cells": [
  {
   "cell_type": "code",
   "execution_count": null,
   "id": "e04b19d6",
   "metadata": {},
   "outputs": [],
   "source": [
    "#1:\n",
    "PdfFileReader() : Needs to be opened in read-binary mode by passing 'rb' as the second argument to open().\n",
    "PdfFileWriter() : Needs to be opened in write-binary mode with 'wb'."
   ]
  },
  {
   "cell_type": "code",
   "execution_count": 3,
   "id": "b4d3f21d",
   "metadata": {},
   "outputs": [
    {
     "data": {
      "text/plain": [
       "'departure of the train.\\n13.For Suvidha Train, W.e.f. 20-Jan-2018, refund rule will be applicable as per General refund rule.\\n14.In case of train cancellation on its entire run, full refund is granted automatically by the system. However, if the train is cancelled partially on its run or diverted and not touching boarding/destination station,\\npassengers are required to ﬁle online TDR within 72 hours of scheduled departure of the train from passengers boarding station.\\n15.Passengers are advised not to carry inﬂammable/dangerous/explosive/articles as part of their luggage and also to desist from smoking in the trains.\\n16.Contact us on: - 24*7 Hrs Customer Support at 0755-6610661, 0755-4090600 or Mail To: care@irctc.co.in.\\n17.Variety of meals available in more than 1500 trains. For delivery of meal of your choice on your seat log on to www.ecatering.irctc.co.in or call 1323 Toll Free. For any suggestions/complaints related to Catering\\nservices, contact Toll Free No. 1800-111-321 (07.00 hrs to 22.00 hrs)\\n18.PNR and train arrival/departure enquiry no. 139\\n19.National Consumer Helpline (NCH) Toll Free Number: 1800-11-400 or 14404\\n20.All the Terms and conditions speciﬁed will be applicable in case of opting Travel Insurance facility. Please Refer Travel Insurance’s Terms & Conditions available on Home page of www.irctc.co.in website.\\n21.Never purchase e-ticket from unauthorized agents or persons using their personal IDs for commercial purposes.Such tickets are liable to be cancelled and forfeited without any refund of money, under section\\n(143) of the Indian Railway Act 1989. List of authorized agents are available on www.irctc.com E-Ticket Agent Locator\\n22.General rules/ Information for e-ticket passenger have to be studied by the customer for cancellation & refund.\\n23.The FIR forms are available with on board ticket checking staff,train guard and train escorting RPF/GRP staff.\\nDownload the UTS APP for Unreserved Ticket booking.\\nInformation on Covid-19 Vaccination Programme\\n1.COVID-19 Vaccine is an injectable vaccine and is a safe vaccine.\\n2.COVID-19 vaccine will help to protect you, your family and communities from the Coronavirus.\\n3.COVID-19 vaccine provides immunity against the Coronavirus disease and reduces the risk of contracting the COVID-19 infection.\\n4.It is true that the COVID-19 vaccine has been developed in a short time frame, but it has undergone the protocols of various levels of trials, following due scientiﬁc processes and after due\\ndiligence.\\n5..Only registered beneﬁciaries will be vaccinate for COVID-19 vaccine. All beneﬁciaries have to be registered online. There will be no on-spot registrations at the vaccination site.\\n6.Once you have registered yourself, you will receive the vaccine in the selected location near your home.\\n7.All safety protocols including COVID Appropriate Behaviour (CAB) will be strictly followed in the vaccination centers and sites while providing the vaccine. .\\n8.While vaccines are now available for some people in the initial phase, it is critical that all of us continue to follow all the COVID Appropriate Behaviour, like use of masks, frequent handwashing\\nwith soaps and sanitizers, and maintaining physical distance of at least 6 feet (Do Gaj ki Doori).\\nONE NATION ONE RATION CARD\\nUnder this scheme, migrant NFSA beneﬁciaries can get their foodgrains from any Fair Price Shop in the country through their existing ration cards. Currently this facility is available in 32\\nStates/UTs.\\nPrint ERS Without Advertisements [X]'"
      ]
     },
     "execution_count": 3,
     "metadata": {},
     "output_type": "execute_result"
    }
   ],
   "source": [
    "#2:\n",
    "#Calling getPage(4) will return a Page object for page 5 since page 0 is the first page.\n",
    "import PyPDF2 as pdf\n",
    "pdfFileObj = open(\"E:\\merged_2_pages.pdf\",'rb')\n",
    "pdfReader = pdf.PdfFileReader(pdfFileObj)\n",
    "pageObj = pdfReader.getPage(2)\n",
    "pageObj.extractText()"
   ]
  },
  {
   "cell_type": "code",
   "execution_count": null,
   "id": "4ec9ce85",
   "metadata": {},
   "outputs": [],
   "source": [
    "#3:\n",
    "import PyPDF2 as pdf\n",
    "pdfFileObj = open(\"E:\\merged_2_pages.pdf\",'rb')\n",
    "pdfReader = pdf.PdfFileReader(pdfFileObj)\n",
    "pdfReader.numPages"
   ]
  },
  {
   "cell_type": "code",
   "execution_count": null,
   "id": "20db91c8",
   "metadata": {},
   "outputs": [],
   "source": [
    "#4:\n",
    "Before we obtain the page object, the pdf has to be decrypted by calling .decrypt('swordfish')"
   ]
  },
  {
   "cell_type": "code",
   "execution_count": null,
   "id": "f6f6a912",
   "metadata": {},
   "outputs": [],
   "source": [
    "#5:\n",
    "pageObj.rotateClockwise(180)"
   ]
  },
  {
   "cell_type": "code",
   "execution_count": null,
   "id": "73eb855c",
   "metadata": {},
   "outputs": [],
   "source": [
    "#6:\n",
    "Paragraph Object : A document contains multiple paragraphs. A paragraph begins on a new line and contains multiple runs.\n",
    "The Document object contains a list of Paragraph objects for the paragraphs in the document.\n",
    "(A new paragraph begins whenever the user presses ENTER or RETURN while typing in a Word document.)\n",
    "Run Objects : Runs are contiguous groups of characters within a paragraph with the same style"
   ]
  },
  {
   "cell_type": "code",
   "execution_count": null,
   "id": "314bb1b4",
   "metadata": {},
   "outputs": [],
   "source": [
    "#7:\n",
    "import docx\n",
    "doc = docx.Document('abc.docx')\n",
    "doc.paragraphs\n",
    "# By using doc.paragraphs"
   ]
  },
  {
   "cell_type": "code",
   "execution_count": null,
   "id": "7ab7a89e",
   "metadata": {},
   "outputs": [],
   "source": [
    "#8:\n",
    "A Run object has bold, underline,italic,strike and outline variables"
   ]
  },
  {
   "cell_type": "code",
   "execution_count": null,
   "id": "b3bc457f",
   "metadata": {},
   "outputs": [],
   "source": [
    "#9:\n",
    "True :the attribute is always enabled, no matter what other styles are applied to the run.\n",
    "False :the attribute is always disabled.\n",
    "None :defaults to whatever the run’s style is set to."
   ]
  },
  {
   "cell_type": "code",
   "execution_count": null,
   "id": "e4f65065",
   "metadata": {},
   "outputs": [],
   "source": [
    "#10:\n",
    "By Calling the docx.Document() function."
   ]
  },
  {
   "cell_type": "code",
   "execution_count": 3,
   "id": "9d6114db",
   "metadata": {},
   "outputs": [],
   "source": [
    "#11:\n",
    "import docx\n",
    "doc = docx.Document()\n",
    "doc.add_paragraph('Hello there!')\n",
    "doc.save('E:\\hellothere.docx')"
   ]
  },
  {
   "cell_type": "code",
   "execution_count": null,
   "id": "a182dd90",
   "metadata": {},
   "outputs": [],
   "source": [
    "#12:\n",
    "integer from 0 to 4\n",
    "The arguments to add_heading() are a string of the heading text and an integer from 0 to 4. \n",
    "The integer 0 makes the heading the Title style, which is used for the top of the document.\n",
    "Integers 1 to 4 are for various heading levels, with 1 being the main heading and 4 the lowest subheading."
   ]
  }
 ],
 "metadata": {
  "kernelspec": {
   "display_name": "Python 3 (ipykernel)",
   "language": "python",
   "name": "python3"
  },
  "language_info": {
   "codemirror_mode": {
    "name": "ipython",
    "version": 3
   },
   "file_extension": ".py",
   "mimetype": "text/x-python",
   "name": "python",
   "nbconvert_exporter": "python",
   "pygments_lexer": "ipython3",
   "version": "3.9.7"
  }
 },
 "nbformat": 4,
 "nbformat_minor": 5
}
